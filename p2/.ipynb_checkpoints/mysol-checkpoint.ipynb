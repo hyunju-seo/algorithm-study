{
 "cells": [
  {
   "cell_type": "code",
   "execution_count": null,
   "metadata": {},
   "outputs": [],
   "source": [
    "#dart는 입력 저장, result[top]은 top라운드의 점수, pointer는 dart 하나씩 읽어오는 변수\n",
    "#r1 점수, r2 보너스 , r3 옵션\n",
    "dart=input()\n",
    "dart=dart+\"0\"  #마지막 루프에서 pointer가 out of range 방지\n",
    "top=0      \n",
    "pointer=0\n",
    "result=[0,0,0,0]\n",
    "result[top]=0\n",
    "for i in range(3):\n",
    "    print(i)\n",
    "    r1=int(dart[pointer])\n",
    "    pointer+=1\n",
    "    r2=dart[pointer]\n",
    "    if r2==\"S\":\n",
    "        r2=int(1)\n",
    "    elif r2==\"D\":\n",
    "        r2=int(2)\n",
    "    elif r2==\"T\":\n",
    "        r2=int(3)\n",
    "    else:\n",
    "        break\n",
    "    top+=1\n",
    "    result[top]=r1**r2\n",
    "    pointer+=1\n",
    "    r3=dart[pointer]\n",
    "    if r3==\"*\":\n",
    "        top-=1\n",
    "        result[top]=result[top]*2\n",
    "        top+=1\n",
    "        result[top]=result[top]*2\n",
    "        pointer+=1\n",
    "    elif r3==\"#\":\n",
    "        result[top]= -result[top]\n",
    "        pointer+=1\n",
    "sum=result[1]+result[2]+result[3]\n",
    "print(sum)\n",
    "    \n",
    "\n"
   ]
  },
  {
   "cell_type": "code",
   "execution_count": null,
   "metadata": {},
   "outputs": [],
   "source": []
  }
 ],
 "metadata": {
  "kernelspec": {
   "display_name": "Python 3",
   "language": "python",
   "name": "python3"
  },
  "language_info": {
   "codemirror_mode": {
    "name": "ipython",
    "version": 3
   },
   "file_extension": ".py",
   "mimetype": "text/x-python",
   "name": "python",
   "nbconvert_exporter": "python",
   "pygments_lexer": "ipython3",
   "version": "3.7.3"
  }
 },
 "nbformat": 4,
 "nbformat_minor": 2
}
