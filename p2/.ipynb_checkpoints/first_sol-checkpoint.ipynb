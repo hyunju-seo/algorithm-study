{
 "cells": [
  {
   "cell_type": "code",
   "execution_count": 6,
   "metadata": {},
   "outputs": [
    {
     "name": "stdout",
     "output_type": "stream",
     "text": [
      "1S2D*3T 37\n",
      "1D2S#10S 9\n",
      "1D2S0T 3\n",
      "1S*2T*3S 23\n",
      "1D#2S*3S 5\n",
      "1T2D3D# -4\n",
      "1D2S3T* 59\n"
     ]
    }
   ],
   "source": [
    "def dart(s):\n",
    "    n=''\n",
    "    score=[]\n",
    "    for i in s:\n",
    "        if i.isnumeric():\n",
    "            n+=i\n",
    "        elif i==\"S\":\n",
    "            score.append(int(n)**1)\n",
    "            n=''\n",
    "        elif i==\"D\":\n",
    "            score.append(int(n)**2)\n",
    "            n=''\n",
    "        elif i==\"T\":\n",
    "            score.append(int(n)**3)\n",
    "            n=''\n",
    "        elif i==\"#\":\n",
    "            score[-1]=-(score[-1])\n",
    "        elif i==\"*\":\n",
    "            if(len(score)>1):\n",
    "                score[-2]=score[-2]*2            \n",
    "            score[-1]=score[-1]*2\n",
    "    print(s,sum(score))\n",
    "dart(\"1S2D*3T\")\n",
    "dart(\"1D2S#10S\")\n",
    "dart(\"1D2S0T\")\n",
    "dart(\"1S*2T*3S\")\n",
    "dart(\"1D#2S*3S\")\n",
    "dart(\"1T2D3D#\")\n",
    "dart(\"1D2S3T*\")\n",
    "\n",
    "\n"
   ]
  },
  {
   "cell_type": "code",
   "execution_count": null,
   "metadata": {},
   "outputs": [],
   "source": []
  }
 ],
 "metadata": {
  "kernelspec": {
   "display_name": "Python 3",
   "language": "python",
   "name": "python3"
  },
  "language_info": {
   "codemirror_mode": {
    "name": "ipython",
    "version": 3
   },
   "file_extension": ".py",
   "mimetype": "text/x-python",
   "name": "python",
   "nbconvert_exporter": "python",
   "pygments_lexer": "ipython3",
   "version": "3.7.3"
  }
 },
 "nbformat": 4,
 "nbformat_minor": 2
}
