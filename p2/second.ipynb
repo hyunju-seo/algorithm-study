{
 "cells": [
  {
   "cell_type": "code",
   "execution_count": 1,
   "metadata": {},
   "outputs": [
    {
     "name": "stdout",
     "output_type": "stream",
     "text": [
      "['1S', '2D*', '3T']\n"
     ]
    }
   ],
   "source": [
    "import re\n",
    "inp='1S2D*3T'\n",
    "shot = re.findall(r'\\d{1,2}[SDT][*#]?', inp)\n",
    "print(shot)\n"
   ]
  },
  {
   "cell_type": "code",
   "execution_count": null,
   "metadata": {},
   "outputs": [],
   "source": [
    "opt = [1,1,1]\n",
    "for i, s in enumerate(shot):\n",
    "    if s[-1] == '#':\n",
    "        opt[i] *= -1\n",
    "        shot[i] = shot[i][:-1]\n",
    "    elif s[-1] == '*':\n",
    "        opt[i] *= 2\n",
    "        shot[i] = shot[i][:-1]\n",
    "        if i:\n",
    "            opt[i-1] *= 2\n",
    "\n",
    "point = [(int(s[:-1]) ** '0SDT'.find(s[-1]) * o) for s, o in zip(shot, opt)]\n",
    "\n",
    "return sum(point)"
   ]
  }
 ],
 "metadata": {
  "kernelspec": {
   "display_name": "Python 3",
   "language": "python",
   "name": "python3"
  },
  "language_info": {
   "codemirror_mode": {
    "name": "ipython",
    "version": 3
   },
   "file_extension": ".py",
   "mimetype": "text/x-python",
   "name": "python",
   "nbconvert_exporter": "python",
   "pygments_lexer": "ipython3",
   "version": "3.7.3"
  }
 },
 "nbformat": 4,
 "nbformat_minor": 2
}
