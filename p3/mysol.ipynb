{
 "cells": [
  {
   "cell_type": "code",
   "execution_count": 18,
   "metadata": {
    "scrolled": false
   },
   "outputs": [
    {
     "name": "stdout",
     "output_type": "stream",
     "text": [
      "21\n",
      "60\n",
      "52\n",
      "16\n",
      "25\n",
      "11\n",
      "13\n",
      "25\n",
      "0\n"
     ]
    }
   ],
   "source": [
    "def measurement(size,cities ):\n",
    "    cache=[]\n",
    "    time=0\n",
    "    #도시 이름 모두 소문자로 바꾸기\n",
    "    for i in range(len(cities)):\n",
    "        cities[i]=cities[i].lower()\n",
    "    for city_index in range(len(cities)):\n",
    "        miss=1\n",
    "        for a in range(len(cache)):\n",
    "            #cache hit\n",
    "            if cities[cache[a]]==cities[city_index]:\n",
    "                cache[a]=city_index\n",
    "                miss=0\n",
    "                time+=1\n",
    "                break\n",
    "        #cache miss\n",
    "        if miss:\n",
    "            #cache가 가득 참\n",
    "            if len(cache)==size and size!=0:\n",
    "                cache[cache.index(min(cache))]=city_index\n",
    "\n",
    "                \n",
    "\n",
    "            #cache가 안참\n",
    "            else:\n",
    "                cache.append(city_index)\n",
    "            time+=5\n",
    "\n",
    "    print(time)\n",
    "measurement(size=3, cities=[\"Jeju\", \"Pangyo\",\"Seoul\",\"Jeju\",\"Pangyo\",\"Seoul\",\"Jeju\",\"Pangyo\",\"Seoul\"])\n",
    "measurement(size=2, cities=[\"Jeju\",\"Pangyo\",\"Seoul\",\"NewYork\",\"LA\",\"SanFrancisco\",\"Seoul\",\"Rome\",\"Paris\",\"Jeju\",\"NewYork\",\"Rome\"])\n",
    "measurement(size=5, cities=[\"Jeju\",\"pangyo\", \"seoul\", \"NewYork\",\"LA\", \"Sanfrancisco\",\"Seoul\",\"rome\",\"paris\",\"JEJU\",\"NewYotk\",\"Rome\"])\n",
    "measurement(size=2, cities=[\"Jeju\",\"Pangyo\",\"newYork\",\"newyork\"])\n",
    "measurement(size=0,cities=[\"jeju\",\"pangyo\",\"Seoul\",\"newYork\", \"LA\"])\n",
    "measurement(size=5, cities=[\"jeju\",'pangyo','jeju'])\n",
    "measurement(size=5, cities=[\"jeju\",'pangyo','jeju','pangyo','jeju'])\n",
    "measurement(size=5,cities=['pangyo','jeju','paris',\"LA\",\"NEWYORK\"])\n",
    "measurement(size=5, cities=[])\n",
    "\n",
    "\n",
    "            \n",
    "        "
   ]
  },
  {
   "cell_type": "code",
   "execution_count": 2,
   "metadata": {},
   "outputs": [
    {
     "name": "stdout",
     "output_type": "stream",
     "text": [
      "21\n",
      "60\n",
      "52\n",
      "16\n",
      "25\n",
      "11\n",
      "13\n",
      "25\n",
      "0\n"
     ]
    }
   ],
   "source": [
    "def measurement2(size,cities):\n",
    "    cache=[]\n",
    "    time=0\n",
    "    for i in range(len(cities)):\n",
    "        cities[i]=cities[i].lower()\n",
    "    \n",
    "    for city in cities:\n",
    "        if city in cache:\n",
    "            del cache[cache.index(city)]\n",
    "            cache.append(city)\n",
    "            time+=1\n",
    "        else:\n",
    "            if len(cache)==size and size!=0:\n",
    "                del cache[0]\n",
    "                cache.append(city)\n",
    "            else:\n",
    "                cache.append(city)\n",
    "            time+=5\n",
    "    print(time)\n",
    "    \n",
    "measurement2(size=3, cities=[\"Jeju\", \"Pangyo\",\"Seoul\",\"Jeju\",\"Pangyo\",\"Seoul\",\"Jeju\",\"Pangyo\",\"Seoul\"])\n",
    "measurement2(size=2, cities=[\"Jeju\",\"Pangyo\",\"Seoul\",\"NewYork\",\"LA\",\"SanFrancisco\",\"Seoul\",\"Rome\",\"Paris\",\"Jeju\",\"NewYork\",\"Rome\"])\n",
    "measurement2(size=5, cities=[\"Jeju\",\"pangyo\", \"seoul\", \"NewYork\",\"LA\", \"Sanfrancisco\",\"Seoul\",\"rome\",\"paris\",\"JEJU\",\"NewYotk\",\"Rome\"])\n",
    "measurement2(size=2, cities=[\"Jeju\",\"Pangyo\",\"newYork\",\"newyork\"])\n",
    "measurement2(size=0,cities=[\"jeju\",\"pangyo\",\"Seoul\",\"newYork\", \"LA\"])\n",
    "measurement2(size=5, cities=[\"jeju\",'pangyo','jeju'])\n",
    "measurement2(size=5, cities=[\"jeju\",'pangyo','jeju','pangyo','jeju'])\n",
    "measurement2(size=5,cities=['pangyo','jeju','paris',\"LA\",\"NEWYORK\"])\n",
    "measurement2(size=5, cities=[])\n",
    "            \n",
    "    "
   ]
  },
  {
   "cell_type": "code",
   "execution_count": null,
   "metadata": {},
   "outputs": [],
   "source": []
  }
 ],
 "metadata": {
  "kernelspec": {
   "display_name": "Python 3",
   "language": "python",
   "name": "python3"
  },
  "language_info": {
   "codemirror_mode": {
    "name": "ipython",
    "version": 3
   },
   "file_extension": ".py",
   "mimetype": "text/x-python",
   "name": "python",
   "nbconvert_exporter": "python",
   "pygments_lexer": "ipython3",
   "version": "3.7.3"
  }
 },
 "nbformat": 4,
 "nbformat_minor": 2
}
